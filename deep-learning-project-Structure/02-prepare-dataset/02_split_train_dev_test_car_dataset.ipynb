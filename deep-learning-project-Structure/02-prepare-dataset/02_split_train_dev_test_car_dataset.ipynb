{
 "cells": [
  {
   "cell_type": "markdown",
   "metadata": {},
   "source": [
    "#### Data Partitioning\n",
    "\n",
    "* Dataset is to be partitioned into three parts\n",
    "1. TRAIN dataset - contains 80% to 95% of the whole data depending on the number of images and it is used to train the Neural network\n",
    "* Metrics include: training loss and training accuracy\n",
    "2. DEV (validation) dataset: Contains 5% to 2.5% of the whole data depending on the number of images\n",
    "* Used to validate the neural network model on unseen data during the training\n",
    "* Metrics include: validation loss and validation accuracy\n",
    "3. TEST dataset\n",
    "* Contains 5% to 2.5% of the whole data depending on the number of images\n",
    "* Used to test the neural network model on unseen data after completion of the training\n",
    "* Metrics: Test Loss and Test Accuracy"
   ]
  },
  {
   "cell_type": "markdown",
   "metadata": {},
   "source": [
    "#### Loading data from HDF5 Dataset file"
   ]
  },
  {
   "cell_type": "code",
   "execution_count": 15,
   "metadata": {},
   "outputs": [],
   "source": [
    "from pathlib import Path\n",
    "import h5py\n",
    "import numpy as np\n",
    "IMAGE_SIZE = 224\n"
   ]
  },
  {
   "cell_type": "code",
   "execution_count": 12,
   "metadata": {},
   "outputs": [
    {
     "name": "stdout",
     "output_type": "stream",
     "text": [
      "../../h5-dataset/vehicle-type-dataset-SIZE224.hdf5\n",
      "../../h5-dataset/vehicle-type-dataset-SIZE224.hdf5\n"
     ]
    }
   ],
   "source": [
    "# Change the paths below according to the system on which the code is being run\n",
    "# good to have the size in the name in case you create datasets with different image sizes.\n",
    "H5DATASET_FOLDER = \"../../h5-dataset\"  # created at run time\n",
    "HDF5_DATASET_PATH = f\"{H5DATASET_FOLDER}/vehicle-type-dataset-SIZE{IMAGE_SIZE}.hdf5\"  # created when the code is run\n",
    "HDF5_TARGET_DATASET_PATH=f'{H5DATASET_FOLDER}/vehicle-type-dataset-SIZE{IMAGE_SIZE}.hdf5'\n",
    "\n",
    "print(HDF5_DATASET_PATH)\n",
    "print(HDF5_TARGET_DATASET_PATH)"
   ]
  },
  {
   "cell_type": "markdown",
   "metadata": {},
   "source": [
    "#### Loading the dataset"
   ]
  },
  {
   "cell_type": "code",
   "execution_count": 13,
   "metadata": {},
   "outputs": [],
   "source": [
    "#read the dataset\n",
    "hf =h5py.File(HDF5_TARGET_DATASET_PATH, \"r\")"
   ]
  },
  {
   "cell_type": "code",
   "execution_count": 18,
   "metadata": {},
   "outputs": [
    {
     "name": "stdout",
     "output_type": "stream",
     "text": [
      "[b'car-sedan-alltypes' b'car-sedan-alltypes' b'car-bus_alltypes' ...\n",
      " b'motorcycle-bicycle-racing' b'car-suv-alltypes'\n",
      " b'motorcycle-motorbike-sport']\n"
     ]
    }
   ],
   "source": [
    "class_label_string_length=\"S30\"\n",
    "\n",
    "#extract labels\n",
    "labels_in_ascii =np.array(hf[\"labels\"]).astype(class_label_string_length)\n",
    "print(labels_in_ascii)"
   ]
  },
  {
   "cell_type": "code",
   "execution_count": 19,
   "metadata": {},
   "outputs": [],
   "source": [
    "data = np.array(hf[\"images\"]).astype(\"f8\")"
   ]
  },
  {
   "cell_type": "code",
   "execution_count": 21,
   "metadata": {},
   "outputs": [
    {
     "name": "stdout",
     "output_type": "stream",
     "text": [
      "Number of lables: 1362\n"
     ]
    }
   ],
   "source": [
    "#get labels in string format\n",
    "labels = [n.decode('unicode_escape') for n in labels_in_ascii]\n",
    "#print(labels)\n",
    "print(f'Number of lables: {len(labels)}')"
   ]
  },
  {
   "cell_type": "code",
   "execution_count": 22,
   "metadata": {},
   "outputs": [
    {
     "data": {
      "text/plain": [
       "array(['car-bus_alltypes', 'car-sedan-alltypes', 'car-suv-alltypes',\n",
       "       'motorcycle-bicycle-kids', 'motorcycle-bicycle-mountain',\n",
       "       'motorcycle-bicycle-racing', 'motorcycle-motorbike-chopper',\n",
       "       'motorcycle-motorbike-sport'], dtype='<U28')"
      ]
     },
     "execution_count": 22,
     "metadata": {},
     "output_type": "execute_result"
    }
   ],
   "source": [
    "#Unique labels\n",
    "np.unique(labels)"
   ]
  },
  {
   "cell_type": "markdown",
   "metadata": {},
   "source": [
    "#### Dividing the dataset\n",
    "\n",
    "* ![Strategy for Dividing Dataset](../../images/strategyForDividingDataset.png)"
   ]
  }
 ],
 "metadata": {
  "kernelspec": {
   "display_name": "Python 3",
   "language": "python",
   "name": "python3"
  },
  "language_info": {
   "codemirror_mode": {
    "name": "ipython",
    "version": 3
   },
   "file_extension": ".py",
   "mimetype": "text/x-python",
   "name": "python",
   "nbconvert_exporter": "python",
   "pygments_lexer": "ipython3",
   "version": "3.12.1"
  }
 },
 "nbformat": 4,
 "nbformat_minor": 2
}
