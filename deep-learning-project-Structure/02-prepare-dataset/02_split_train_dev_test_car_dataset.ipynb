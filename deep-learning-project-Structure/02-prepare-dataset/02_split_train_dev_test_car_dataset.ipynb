{
 "cells": [
  {
   "cell_type": "markdown",
   "metadata": {},
   "source": [
    "#### Data Partitioning\n",
    "\n",
    "* Dataset is to be partitioned into three parts\n",
    "1. TRAIN dataset - contains 80% to 95% of the whole data depending on the number of images and it is used to train the Neural network\n",
    "* Metrics include: training loss and training accuracy\n",
    "2. DEV (validation) dataset: Contains 5% to 2.5% of the whole data depending on the number of images\n",
    "* Used to validate the neural network model on unseen data during the training\n",
    "* Metrics include: validation loss and validation accuracy\n",
    "3. TEST dataset\n",
    "* Contains 5% to 2.5% of the whole data depending on the number of images\n",
    "* Used to test the neural network model on unseen data after completion of the training\n",
    "* Metrics: Test Loss and Test Accuracy"
   ]
  },
  {
   "cell_type": "markdown",
   "metadata": {},
   "source": [
    "#### Loading data from HDF5 Dataset file"
   ]
  },
  {
   "cell_type": "code",
   "execution_count": 2,
   "metadata": {},
   "outputs": [],
   "source": [
    "from pathlib import Path\n",
    "IMAGE_SIZE = 224\n"
   ]
  },
  {
   "cell_type": "code",
   "execution_count": 3,
   "metadata": {},
   "outputs": [
    {
     "name": "stdout",
     "output_type": "stream",
     "text": [
      "../../dataset\n",
      "../../h5-dataset/Vehicle-type-dataset-SIZE224.hdf5\n"
     ]
    }
   ],
   "source": [
    "# Change the paths below according to the system on which the code is being run\n",
    "# good to have the size in the name in case you create datasets with different image sizes.\n",
    "DATASET_PATH = \"../../dataset\"\n",
    "H5DATASET_FOLDER = \"../../h5-dataset\"  # created at run time\n",
    "TARGET_HDF5_DATASET_PATH = f\"{H5DATASET_FOLDER}/Vehicle-type-dataset-SIZE{IMAGE_SIZE}.hdf5\"  # created when the code is run\n",
    "OUTPUT_STATS_FILE = f\"{H5DATASET_FOLDER}/vehicle-type-dataset-SIZE{IMAGE_SIZE}.hdf5.csv\"\n",
    "\n",
    "print(DATASET_PATH)\n",
    "print(TARGET_HDF5_DATASET_PATH)"
   ]
  }
 ],
 "metadata": {
  "kernelspec": {
   "display_name": "Python 3",
   "language": "python",
   "name": "python3"
  },
  "language_info": {
   "codemirror_mode": {
    "name": "ipython",
    "version": 3
   },
   "file_extension": ".py",
   "mimetype": "text/x-python",
   "name": "python",
   "nbconvert_exporter": "python",
   "pygments_lexer": "ipython3",
   "version": "3.12.1"
  }
 },
 "nbformat": 4,
 "nbformat_minor": 2
}
