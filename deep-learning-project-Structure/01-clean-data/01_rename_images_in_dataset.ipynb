{
 "cells": [
  {
   "cell_type": "markdown",
   "metadata": {},
   "source": [
    "#### renaming images in the dataset depending on the name of the class"
   ]
  },
  {
   "cell_type": "code",
   "execution_count": 1,
   "metadata": {},
   "outputs": [],
   "source": [
    "#importing required libraries\n",
    "from imutils import paths\n",
    "import matplotlib.pyplot as plt\n",
    "import numpy as np\n",
    "import argparse\n",
    "import cv2\n",
    "import os\n",
    "import sys\n",
    "import tensorflow as tf\n"
   ]
  },
  {
   "cell_type": "markdown",
   "metadata": {},
   "source": [
    "#### Rename the images"
   ]
  },
  {
   "cell_type": "code",
   "execution_count": 2,
   "metadata": {},
   "outputs": [],
   "source": [
    "DATASET_PATH = '../../dataset'"
   ]
  },
  {
   "cell_type": "markdown",
   "metadata": {},
   "source": [
    "#### This method should only be run once as it can inadvertently rename unwanted files"
   ]
  },
  {
   "cell_type": "code",
   "execution_count": 13,
   "metadata": {},
   "outputs": [],
   "source": [
    "def rename_dataset_images(folder_path):\n",
    "  #extract parent folder\n",
    "  #put the folder name in the name of the image\n",
    "  # Unify names according to their class labels\n",
    "  counter = 1\n",
    "  for folder,directory_name, files in os.walk(folder_path):\n",
    "    counter = 1\n",
    "    folder_list = folder.split(os.sep)\n",
    "    folder_name = folder_list[-1]\n",
    "    print(f'processing {folder_name}')\n",
    "    for name in files:\n",
    "      #skip system files like .DS_Store on macOS\n",
    "      if'.DS_Store' not in name:\n",
    "        print(f'processing: {name}')\n",
    "        file_path = os.path.join(folder,name)\n",
    "        print(f'Old file path: {file_path}')\n",
    "        #create the new file name\n",
    "        new_name = os.path.join(folder, f\"{folder_name}-{counter}.jpg\")\n",
    "        print(f'New file path: {new_name}')\n",
    "        \n",
    "        #rename the file\n",
    "        os.rename(file_path, new_name)\n",
    "        counter +=1\n",
    "  print(f\"Total files renamed: {counter-1}\")\n",
    "  return -1"
   ]
  },
  {
   "cell_type": "markdown",
   "metadata": {},
   "source": [
    "#### Run this if new files are added"
   ]
  },
  {
   "cell_type": "code",
   "execution_count": 25,
   "metadata": {},
   "outputs": [],
   "source": [
    "def rename_dataset_images2(folder_path):\n",
    "    # Process all folders and files within the specified folder_path\n",
    "    for folder, directory_name, files in os.walk(folder_path):\n",
    "        folder_list = folder.split(os.sep)\n",
    "        folder_name = folder_list[-1]\n",
    "        print(f\"Processing folder: {folder_name}\")\n",
    "\n",
    "        # Sort files to maintain a consistent order\n",
    "        files.sort()\n",
    "        counter = 1\n",
    "\n",
    "        # Get a list of already renamed files to avoid naming conflicts\n",
    "        existing_files = [\n",
    "            f for f in files if f.startswith(folder_name + \"-\") and f.endswith(\".jpg\")\n",
    "        ]\n",
    "        used_counters = [\n",
    "            int(f[len(folder_name) + 1 : -4])\n",
    "            for f in existing_files\n",
    "            if f[len(folder_name) + 1 : -4].isdigit()\n",
    "        ]\n",
    "        if used_counters:\n",
    "            counter = max(used_counters) + 1\n",
    "\n",
    "        for name in files:\n",
    "            # Skip system files like .DS_Store on macOS and other potential hidden files\n",
    "            if (\n",
    "                name.startswith(\".\")\n",
    "                or name == \"Thumbs.db\"\n",
    "                or name.startswith(folder_name + \"-\")\n",
    "            ):\n",
    "                continue\n",
    "\n",
    "            print(f\"Processing file: {name}\")\n",
    "            file_path = os.path.join(folder, name)\n",
    "            print(f\"Old file path: {file_path}\")\n",
    "\n",
    "            # Create the new file name\n",
    "            while True:\n",
    "                new_name = os.path.join(folder, f\"{folder_name}-{counter}.jpg\")\n",
    "                if not os.path.exists(new_name):\n",
    "                    break\n",
    "                counter += 1\n",
    "\n",
    "            print(f\"New file path: {new_name}\")\n",
    "\n",
    "            # Rename the file\n",
    "            try:\n",
    "                os.rename(file_path, new_name)\n",
    "            except FileNotFoundError as e:\n",
    "                print(f\"FileNotFoundError: {e}\")\n",
    "                continue\n",
    "            except Exception as e:\n",
    "                print(f\"Unexpected error: {e}\")\n",
    "                continue\n",
    "\n",
    "            counter += 1\n",
    "\n",
    "        print(f\"Total files renamed in {folder_name}: {counter - 1}\")\n",
    "    return -1"
   ]
  },
  {
   "cell_type": "code",
   "execution_count": 27,
   "metadata": {},
   "outputs": [
    {
     "name": "stdout",
     "output_type": "stream",
     "text": [
      "Processing folder: ../../dataset\n",
      "Total files renamed in ../../dataset: 0\n",
      "Processing folder: car\n",
      "Total files renamed in car: 0\n",
      "Processing folder: car-bus\n",
      "Total files renamed in car-bus: 0\n",
      "Processing folder: car-bus_alltypes\n",
      "Total files renamed in car-bus_alltypes: 232\n",
      "Processing folder: car-sedan\n",
      "Total files renamed in car-sedan: 0\n",
      "Processing folder: car-sedan-alltypes\n",
      "Total files renamed in car-sedan-alltypes: 287\n",
      "Processing folder: car-suv\n",
      "Total files renamed in car-suv: 0\n",
      "Processing folder: car-suv-alltypes\n",
      "Total files renamed in car-suv-alltypes: 295\n",
      "Processing folder: motorcycle\n",
      "Total files renamed in motorcycle: 0\n",
      "Processing folder: motorcycle-bicycle\n",
      "Total files renamed in motorcycle-bicycle: 0\n",
      "Processing folder: motorcycle-bicycle-kids\n",
      "Processing file: new2024-06-22-10_21_37-\n",
      "Old file path: ../../dataset\\motorcycle\\motorcycle-bicycle\\motorcycle-bicycle-kids\\new2024-06-22-10_21_37-\n",
      "New file path: ../../dataset\\motorcycle\\motorcycle-bicycle\\motorcycle-bicycle-kids\\motorcycle-bicycle-kids-153.jpg\n",
      "Processing file: new2024-06-22-10_21_58-kids-\n",
      "Old file path: ../../dataset\\motorcycle\\motorcycle-bicycle\\motorcycle-bicycle-kids\\new2024-06-22-10_21_58-kids-\n",
      "New file path: ../../dataset\\motorcycle\\motorcycle-bicycle\\motorcycle-bicycle-kids\\motorcycle-bicycle-kids-154.jpg\n",
      "Processing file: new2024-06-22-10_22_15-kids\n",
      "Old file path: ../../dataset\\motorcycle\\motorcycle-bicycle\\motorcycle-bicycle-kids\\new2024-06-22-10_22_15-kids\n",
      "New file path: ../../dataset\\motorcycle\\motorcycle-bicycle\\motorcycle-bicycle-kids\\motorcycle-bicycle-kids-155.jpg\n",
      "Total files renamed in motorcycle-bicycle-kids: 155\n",
      "Processing folder: motorcycle-bicycle-moutain\n",
      "Total files renamed in motorcycle-bicycle-moutain: 117\n",
      "Processing folder: motorcycle-bicycle-racing\n",
      "Total files renamed in motorcycle-bicycle-racing: 78\n",
      "Processing folder: motorcycle-motorbike\n",
      "Total files renamed in motorcycle-motorbike: 0\n",
      "Processing folder: motorcycle-motorbike-chopper\n",
      "Total files renamed in motorcycle-motorbike-chopper: 83\n",
      "Processing folder: motorcycle-motorbike-sport\n",
      "Total files renamed in motorcycle-motorbike-sport: 118\n"
     ]
    },
    {
     "data": {
      "text/plain": [
       "-1"
      ]
     },
     "execution_count": 27,
     "metadata": {},
     "output_type": "execute_result"
    }
   ],
   "source": [
    "rename_dataset_images2(DATASET_PATH)"
   ]
  }
 ],
 "metadata": {
  "kernelspec": {
   "display_name": "Python 3",
   "language": "python",
   "name": "python3"
  },
  "language_info": {
   "codemirror_mode": {
    "name": "ipython",
    "version": 3
   },
   "file_extension": ".py",
   "mimetype": "text/x-python",
   "name": "python",
   "nbconvert_exporter": "python",
   "pygments_lexer": "ipython3",
   "version": "3.12.1"
  }
 },
 "nbformat": 4,
 "nbformat_minor": 2
}
