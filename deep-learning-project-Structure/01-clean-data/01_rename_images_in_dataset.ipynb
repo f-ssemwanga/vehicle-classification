{
 "cells": [
  {
   "cell_type": "markdown",
   "metadata": {},
   "source": [
    "#### renaming images in the dataset depending on the name of the class"
   ]
  },
  {
   "cell_type": "code",
   "execution_count": 8,
   "metadata": {},
   "outputs": [],
   "source": [
    "#importing required libraries\n",
    "from imutils import paths\n",
    "import matplotlib.pyplot as plt\n",
    "import numpy as np\n",
    "import argparse\n",
    "import cv2\n",
    "import os\n",
    "import sys\n",
    "import tensorflow as tf\n"
   ]
  },
  {
   "cell_type": "markdown",
   "metadata": {},
   "source": [
    "#### Rename the images"
   ]
  },
  {
   "cell_type": "code",
   "execution_count": 22,
   "metadata": {},
   "outputs": [],
   "source": [
    "DATASET_PATH = '../../dataset'"
   ]
  },
  {
   "cell_type": "markdown",
   "metadata": {},
   "source": [
    "#### This method should only be run once as it can inadvertently rename unwanted files"
   ]
  },
  {
   "cell_type": "code",
   "execution_count": 24,
   "metadata": {},
   "outputs": [],
   "source": [
    "def rename_dataset_images(folder_path):\n",
    "  #extract parent folder\n",
    "  #put the folder name in the name of the image\n",
    "  # Unify names according to their class labels\n",
    "  counter = 1\n",
    "  for folder,directory_name, files in os.walk(folder_path):\n",
    "    counter = 1\n",
    "    folder_list = folder.split(os.sep)\n",
    "    folder_name = folder_list[-1]\n",
    "    print(f'processing {folder_name}')\n",
    "    for name in files:\n",
    "      #skip system files like .DS_Store on macOS\n",
    "      if'.DS_Store' not in name:\n",
    "        print(f'processing: {name}')\n",
    "        file_path = os.path.join(folder,name)\n",
    "        print(f'Old file path: {file_path}')\n",
    "        #create the new file name\n",
    "        new_name = os.path.join(folder, f\"{folder_name}-{counter}.jpg\")\n",
    "        print(f'New file path: {new_name}')\n",
    "        \n",
    "        #rename the file\n",
    "        os.rename(file_path, new_name)\n",
    "        counter +=1\n",
    "  print(f\"Total files renamed: {counter-1}\")\n",
    "  return -1"
   ]
  },
  {
   "cell_type": "code",
   "execution_count": null,
   "metadata": {},
   "outputs": [],
   "source": [
    "rename_dataset_images(DATASET_PATH)"
   ]
  }
 ],
 "metadata": {
  "kernelspec": {
   "display_name": "Python 3",
   "language": "python",
   "name": "python3"
  },
  "language_info": {
   "codemirror_mode": {
    "name": "ipython",
    "version": 3
   },
   "file_extension": ".py",
   "mimetype": "text/x-python",
   "name": "python",
   "nbconvert_exporter": "python",
   "pygments_lexer": "ipython3",
   "version": "3.12.1"
  }
 },
 "nbformat": 4,
 "nbformat_minor": 2
}
