{
 "cells": [
  {
   "cell_type": "markdown",
   "metadata": {},
   "source": [
    "#### Removing duplicates from the dataset\n",
    "\n",
    "Having a lot of duplicates in the dataset will lead to bad models that are biased to the duplicate data"
   ]
  },
  {
   "cell_type": "code",
   "execution_count": null,
   "metadata": {},
   "outputs": [],
   "source": [
    "#Import the required modules\n",
    "from imutils import paths\n",
    "import numpy as np\n",
    "import argparse\n",
    "import cv2\n",
    "import os"
   ]
  },
  {
   "cell_type": "code",
   "execution_count": null,
   "metadata": {},
   "outputs": [],
   "source": [
    "last_index = 15"
   ]
  },
  {
   "cell_type": "code",
   "execution_count": 2,
   "metadata": {},
   "outputs": [],
   "source": [
    "#create and calculate the hash for each image\n",
    "#if two images are similar then delete one\n",
    "def dhash(image,hashSize=8):\n",
    "  #convert the image to grayscale and resze the grayscale image\n",
    "  #add a single column (width) so we can compute the horizontal gradient\n",
    "  gray = cv2.cvtColor(image, cv2.COLOR_BGR2GRAY)\n",
    "  resized = cv2.resize(gray, (hashSize+1, hashSize))\n",
    "  \n",
    "  #compute the relative horizontal gradient between adjacent column pixels\n",
    "  diff = resized[:, 1:] > resized[:, :-1]\n",
    "  \n",
    "  #convert the difference image to a has and return it\n",
    "  return sum([2 ** i for (i,v) in enumerate(diff.flatten()) if v])"
   ]
  }
 ],
 "metadata": {
  "kernelspec": {
   "display_name": "Python 3",
   "language": "python",
   "name": "python3"
  },
  "language_info": {
   "codemirror_mode": {
    "name": "ipython",
    "version": 3
   },
   "file_extension": ".py",
   "mimetype": "text/x-python",
   "name": "python",
   "nbconvert_exporter": "python",
   "pygments_lexer": "ipython3",
   "version": "3.12.1"
  }
 },
 "nbformat": 4,
 "nbformat_minor": 2
}
