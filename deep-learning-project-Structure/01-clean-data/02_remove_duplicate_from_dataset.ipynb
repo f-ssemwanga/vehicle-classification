{
 "cells": [
  {
   "cell_type": "markdown",
   "metadata": {},
   "source": [
    "#### Removing duplicates from the dataset\n",
    "\n",
    "Having a lot of duplicates in the dataset will lead to bad models that are biased to the duplicate data"
   ]
  },
  {
   "cell_type": "code",
   "execution_count": 49,
   "metadata": {},
   "outputs": [],
   "source": [
    "#Import the required modules\n",
    "from imutils import paths\n",
    "import numpy as np\n",
    "import argparse\n",
    "import cv2\n",
    "import os"
   ]
  },
  {
   "cell_type": "code",
   "execution_count": 50,
   "metadata": {},
   "outputs": [],
   "source": [
    "last_index = 30 # specify the length of the name of the class to compare"
   ]
  },
  {
   "cell_type": "markdown",
   "metadata": {},
   "source": [
    "#### calculating the hash for all the images"
   ]
  },
  {
   "cell_type": "code",
   "execution_count": 51,
   "metadata": {},
   "outputs": [],
   "source": [
    "#create and calculate the hash for each image\n",
    "#if two images are similar then delete one\n",
    "def dhash(image,hashSize=8):\n",
    "  #convert the image to grayscale and resze the grayscale image\n",
    "  #add a single column (width) so we can compute the horizontal gradient\n",
    "  gray = cv2.cvtColor(image, cv2.COLOR_BGR2GRAY)\n",
    "  resized = cv2.resize(gray, (hashSize+1, hashSize))\n",
    "  \n",
    "  #compute the relative horizontal gradient between adjacent column pixels\n",
    "  diff = resized[:, 1:] > resized[:, :-1]\n",
    "  \n",
    "  #convert the difference image to a has and return it\n",
    "  return sum([2 ** i for (i,v) in enumerate(diff.flatten()) if v])"
   ]
  },
  {
   "cell_type": "markdown",
   "metadata": {},
   "source": [
    "#### Create a map where the key is the hash and the value is the image"
   ]
  },
  {
   "cell_type": "code",
   "execution_count": 52,
   "metadata": {},
   "outputs": [
    {
     "name": "stdout",
     "output_type": "stream",
     "text": [
      "[INFO] computing image hashes ....\n"
     ]
    }
   ],
   "source": [
    "DATASET_PATH = \"../../dataset\"\n",
    "#grab the paths to all images in our input dataset directory\n",
    "#initialise the hashes dictionary\n",
    "print(\"[INFO] computing image hashes ....\")\n",
    "imagePaths = list(paths.list_images(DATASET_PATH))\n",
    "hashes ={}\n",
    "\n"
   ]
  },
  {
   "cell_type": "code",
   "execution_count": 53,
   "metadata": {},
   "outputs": [
    {
     "data": {
      "text/plain": [
       "1365"
      ]
     },
     "execution_count": 53,
     "metadata": {},
     "output_type": "execute_result"
    }
   ],
   "source": [
    "len(imagePaths)\n"
   ]
  },
  {
   "cell_type": "markdown",
   "metadata": {},
   "source": [
    "#Loop for finding all duplicates\n",
    "\n",
    "* Calculating a map in which the key is the hash of the image\n",
    "* Value is list of images with the same hash i.e. duplicate images"
   ]
  },
  {
   "cell_type": "code",
   "execution_count": 54,
   "metadata": {},
   "outputs": [],
   "source": [
    "#loop over the image paths\n",
    "for imagePath in imagePaths:\n",
    "  #load the input image and compute the hash\n",
    "  image =cv2.imread(imagePath)\n",
    "  h = dhash(image)\n",
    "  \n",
    "  #grab all image paths with the hash, add the current image\n",
    "  #path to it, and store the list back in the hashes dictionary\n",
    "  p = hashes.get(h, [])\n",
    "  p.append(imagePath)\n",
    "  hashes[h] =p"
   ]
  },
  {
   "cell_type": "code",
   "execution_count": null,
   "metadata": {},
   "outputs": [],
   "source": [
    "count = 0\n",
    "for (h, hashedPaths) in hashes.items():\n",
    "  if (len(hashedPaths)>1):\n",
    "    count += 1\n",
    "    print(f'{hashedPaths[0].split(os.sep)[-1][0:last_index]} | {hashedPaths[1].split(os.sep)[-1][0:last_index]}')\n",
    "print(len(hashes.items()))"
   ]
  }
 ],
 "metadata": {
  "kernelspec": {
   "display_name": "Python 3",
   "language": "python",
   "name": "python3"
  },
  "language_info": {
   "codemirror_mode": {
    "name": "ipython",
    "version": 3
   },
   "file_extension": ".py",
   "mimetype": "text/x-python",
   "name": "python",
   "nbconvert_exporter": "python",
   "pygments_lexer": "ipython3",
   "version": "3.12.1"
  }
 },
 "nbformat": 4,
 "nbformat_minor": 2
}
