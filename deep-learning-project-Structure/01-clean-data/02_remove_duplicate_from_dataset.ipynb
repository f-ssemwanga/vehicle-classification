{
 "cells": [
  {
   "cell_type": "markdown",
   "metadata": {},
   "source": [
    "#### Removing duplicates from the dataset\n",
    "\n",
    "Having a lot of duplicates in the dataset will lead to bad models that are biased to the duplicate data"
   ]
  },
  {
   "cell_type": "code",
   "execution_count": 41,
   "metadata": {},
   "outputs": [],
   "source": [
    "#Import the required modules\n",
    "from imutils import paths\n",
    "import numpy as np\n",
    "import argparse\n",
    "import cv2\n",
    "import os"
   ]
  },
  {
   "cell_type": "code",
   "execution_count": 42,
   "metadata": {},
   "outputs": [],
   "source": [
    "last_index = 30 # specify the length of the name of the class to compare"
   ]
  },
  {
   "cell_type": "markdown",
   "metadata": {},
   "source": [
    "#### calculating the hash for all the images"
   ]
  },
  {
   "cell_type": "code",
   "execution_count": 43,
   "metadata": {},
   "outputs": [],
   "source": [
    "#create and calculate the hash for each image\n",
    "#if two images are similar then delete one\n",
    "def dhash(image,hashSize=8):\n",
    "  #convert the image to grayscale and resze the grayscale image\n",
    "  #add a single column (width) so we can compute the horizontal gradient\n",
    "  gray = cv2.cvtColor(image, cv2.COLOR_BGR2GRAY)\n",
    "  resized = cv2.resize(gray, (hashSize+1, hashSize))\n",
    "  \n",
    "  #compute the relative horizontal gradient between adjacent column pixels\n",
    "  diff = resized[:, 1:] > resized[:, :-1]\n",
    "  \n",
    "  #convert the difference image to a has and return it\n",
    "  return sum([2 ** i for (i,v) in enumerate(diff.flatten()) if v])"
   ]
  },
  {
   "cell_type": "markdown",
   "metadata": {},
   "source": [
    "#### Create a map where the key is the hash and the value is the image"
   ]
  },
  {
   "cell_type": "code",
   "execution_count": 44,
   "metadata": {},
   "outputs": [
    {
     "name": "stdout",
     "output_type": "stream",
     "text": [
      "[INFO] computing image hashes ....\n"
     ]
    }
   ],
   "source": [
    "DATASET_PATH = \"../../dataset\"\n",
    "#grab the paths to all images in our input dataset directory\n",
    "#initialise the hashes dictionary\n",
    "print(\"[INFO] computing image hashes ....\")\n",
    "imagePaths = list(paths.list_images(DATASET_PATH))\n",
    "hashes ={}\n",
    "\n"
   ]
  },
  {
   "cell_type": "code",
   "execution_count": 45,
   "metadata": {},
   "outputs": [
    {
     "data": {
      "text/plain": [
       "320"
      ]
     },
     "execution_count": 45,
     "metadata": {},
     "output_type": "execute_result"
    }
   ],
   "source": [
    "len(imagePaths)\n"
   ]
  },
  {
   "cell_type": "markdown",
   "metadata": {},
   "source": [
    "#Loop for finding all duplicates\n",
    "\n",
    "* Calculating a map in which the key is the hash of the image\n",
    "* Value is list of images with the same hash i.e. duplicate images"
   ]
  },
  {
   "cell_type": "code",
   "execution_count": 46,
   "metadata": {},
   "outputs": [],
   "source": [
    "#loop over the image paths\n",
    "for imagePath in imagePaths:\n",
    "  #load the input image and compute the hash\n",
    "  image =cv2.imread(imagePath)\n",
    "  h = dhash(image)\n",
    "  \n",
    "  #grab all image paths with the hash, add the current image\n",
    "  #path to it, and store the list back in the hashes dictionary\n",
    "  p = hashes.get(h, [])\n",
    "  p.append(imagePath)\n",
    "  hashes[h] =p"
   ]
  },
  {
   "cell_type": "code",
   "execution_count": 47,
   "metadata": {},
   "outputs": [
    {
     "name": "stdout",
     "output_type": "stream",
     "text": [
      "320\n"
     ]
    }
   ],
   "source": [
    "count = 0\n",
    "for (h, hashedPaths) in hashes.items():\n",
    "  if (len(hashedPaths)>1):\n",
    "    count += 1\n",
    "    print(f'{hashedPaths[0].split(os.sep)[-1][0:last_index]} | {hashedPaths[1].split(os.sep)[-1][0:last_index]}')\n",
    "print(len(hashes.items()))"
   ]
  },
  {
   "cell_type": "code",
   "execution_count": 48,
   "metadata": {},
   "outputs": [],
   "source": [
    "remove = True\n",
    "\n",
    "# Loop over the image hashes\n",
    "for h, hashedPaths in hashes.items():\n",
    "    # Check to see if there is more than one image with the same hash\n",
    "    if len(hashedPaths) > 1:\n",
    "        # Check to see if this is a dry run\n",
    "        if remove == False:\n",
    "            # Initialize a montage to store all images with the same hash\n",
    "            montage = None\n",
    "\n",
    "            # Loop over all the image paths with the same hash\n",
    "            for p in hashedPaths:\n",
    "                # Load the input image and resize it to a fixed width and height\n",
    "                image = cv2.imread(p)\n",
    "                image = cv2.resize(image, (150, 150))\n",
    "\n",
    "                # If our montage is None, initialize it\n",
    "                if montage is None:\n",
    "                    montage = image\n",
    "\n",
    "                # Otherwise, horizontally stack the image\n",
    "                else:\n",
    "                    montage = np.hstack([montage, image])\n",
    "\n",
    "            # Show montage for the hash\n",
    "            print(f\"[INFO] hash : {h}\")\n",
    "            cv2.imshow(\"Montage\", montage)\n",
    "            cv2.waitKey(0)\n",
    "        else:\n",
    "            # Loop over all the image paths with the same hash except\n",
    "            # for the first image in the list (since we want to keep one and only one of the duplicate images)\n",
    "            for p in hashedPaths[1:]:\n",
    "                print(f\"Removing: {p}\")\n",
    "                os.remove(p)"
   ]
  }
 ],
 "metadata": {
  "kernelspec": {
   "display_name": "Python 3",
   "language": "python",
   "name": "python3"
  },
  "language_info": {
   "codemirror_mode": {
    "name": "ipython",
    "version": 3
   },
   "file_extension": ".py",
   "mimetype": "text/x-python",
   "name": "python",
   "nbconvert_exporter": "python",
   "pygments_lexer": "ipython3",
   "version": "3.12.1"
  }
 },
 "nbformat": 4,
 "nbformat_minor": 2
}
