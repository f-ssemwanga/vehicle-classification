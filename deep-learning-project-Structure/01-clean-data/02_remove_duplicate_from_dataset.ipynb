{
 "cells": [
  {
   "cell_type": "markdown",
   "metadata": {},
   "source": [
    "#### Removing duplicates from the dataset\n",
    "\n",
    "Having a lot of duplicates in the dataset will lead to bad models that are biased to the duplicate data"
   ]
  },
  {
   "cell_type": "code",
   "execution_count": 49,
   "metadata": {},
   "outputs": [],
   "source": [
    "#Import the required modules\n",
    "from imutils import paths\n",
    "import numpy as np\n",
    "import argparse\n",
    "import cv2\n",
    "import os"
   ]
  },
  {
   "cell_type": "code",
   "execution_count": 50,
   "metadata": {},
   "outputs": [],
   "source": [
    "last_index = 30 # specify the length of the name of the class to compare"
   ]
  },
  {
   "cell_type": "markdown",
   "metadata": {},
   "source": [
    "#### calculating the hash for all the images"
   ]
  },
  {
   "cell_type": "code",
   "execution_count": 51,
   "metadata": {},
   "outputs": [],
   "source": [
    "#create and calculate the hash for each image\n",
    "#if two images are similar then delete one\n",
    "def dhash(image,hashSize=8):\n",
    "  #convert the image to grayscale and resze the grayscale image\n",
    "  #add a single column (width) so we can compute the horizontal gradient\n",
    "  gray = cv2.cvtColor(image, cv2.COLOR_BGR2GRAY)\n",
    "  resized = cv2.resize(gray, (hashSize+1, hashSize))\n",
    "  \n",
    "  #compute the relative horizontal gradient between adjacent column pixels\n",
    "  diff = resized[:, 1:] > resized[:, :-1]\n",
    "  \n",
    "  #convert the difference image to a has and return it\n",
    "  return sum([2 ** i for (i,v) in enumerate(diff.flatten()) if v])"
   ]
  },
  {
   "cell_type": "markdown",
   "metadata": {},
   "source": [
    "#### Create a map where the key is the hash and the value is the image"
   ]
  },
  {
   "cell_type": "code",
   "execution_count": 52,
   "metadata": {},
   "outputs": [
    {
     "name": "stdout",
     "output_type": "stream",
     "text": [
      "[INFO] computing image hashes ....\n"
     ]
    }
   ],
   "source": [
    "DATASET_PATH = \"../../dataset\"\n",
    "#grab the paths to all images in our input dataset directory\n",
    "#initialise the hashes dictionary\n",
    "print(\"[INFO] computing image hashes ....\")\n",
    "imagePaths = list(paths.list_images(DATASET_PATH))\n",
    "hashes ={}\n",
    "\n"
   ]
  },
  {
   "cell_type": "code",
   "execution_count": 53,
   "metadata": {},
   "outputs": [
    {
     "data": {
      "text/plain": [
       "1365"
      ]
     },
     "execution_count": 53,
     "metadata": {},
     "output_type": "execute_result"
    }
   ],
   "source": [
    "len(imagePaths)\n"
   ]
  },
  {
   "cell_type": "markdown",
   "metadata": {},
   "source": [
    "#Loop for finding all duplicates\n",
    "\n",
    "* Calculating a map in which the key is the hash of the image\n",
    "* Value is list of images with the same hash i.e. duplicate images"
   ]
  },
  {
   "cell_type": "code",
   "execution_count": 54,
   "metadata": {},
   "outputs": [],
   "source": [
    "#loop over the image paths\n",
    "for imagePath in imagePaths:\n",
    "  #load the input image and compute the hash\n",
    "  image =cv2.imread(imagePath)\n",
    "  h = dhash(image)\n",
    "  \n",
    "  #grab all image paths with the hash, add the current image\n",
    "  #path to it, and store the list back in the hashes dictionary\n",
    "  p = hashes.get(h, [])\n",
    "  p.append(imagePath)\n",
    "  hashes[h] =p"
   ]
  },
  {
   "cell_type": "code",
   "execution_count": 55,
   "metadata": {},
   "outputs": [
    {
     "name": "stdout",
     "output_type": "stream",
     "text": [
      "car-bus_alltypes-1.jpg | car-bus_alltypes-203.jpg\n",
      "car-bus_alltypes-10.jpg | car-bus_alltypes-123.jpg\n",
      "car-bus_alltypes-103.jpg | car-bus_alltypes-20.jpg\n",
      "car-bus_alltypes-104.jpg | car-bus_alltypes-32.jpg\n",
      "car-bus_alltypes-11.jpg | car-bus_alltypes-215.jpg\n",
      "car-bus_alltypes-111.jpg | car-bus_alltypes-64.jpg\n",
      "car-bus_alltypes-113.jpg | car-bus_alltypes-176.jpg\n",
      "car-bus_alltypes-115.jpg | car-bus_alltypes-69.jpg\n",
      "car-bus_alltypes-117.jpg | car-bus_alltypes-16.jpg\n",
      "car-bus_alltypes-120.jpg | car-bus_alltypes-71.jpg\n",
      "car-bus_alltypes-121.jpg | car-bus_alltypes-51.jpg\n",
      "car-bus_alltypes-125.jpg | car-bus_alltypes-224.jpg\n",
      "car-bus_alltypes-126.jpg | car-bus_alltypes-191.jpg\n",
      "car-bus_alltypes-13.jpg | car-bus_alltypes-147.jpg\n",
      "car-bus_alltypes-134.jpg | car-bus_alltypes-188.jpg\n",
      "car-bus_alltypes-136.jpg | car-bus_alltypes-25.jpg\n",
      "car-bus_alltypes-137.jpg | car-bus_alltypes-81.jpg\n",
      "car-bus_alltypes-139.jpg | car-bus_alltypes-62.jpg\n",
      "car-bus_alltypes-14.jpg | car-bus_alltypes-38.jpg\n",
      "car-bus_alltypes-145.jpg | car-bus_alltypes-218.jpg\n",
      "car-bus_alltypes-149.jpg | car-bus_alltypes-50.jpg\n",
      "car-bus_alltypes-151.jpg | car-bus_alltypes-227.jpg\n",
      "car-bus_alltypes-152.jpg | car-bus_alltypes-157.jpg\n",
      "car-bus_alltypes-153.jpg | car-bus_alltypes-7.jpg\n",
      "car-bus_alltypes-154.jpg | car-bus_alltypes-166.jpg\n",
      "car-bus_alltypes-159.jpg | car-bus_alltypes-212.jpg\n",
      "car-bus_alltypes-161.jpg | car-bus_alltypes-49.jpg\n",
      "car-bus_alltypes-162.jpg | car-bus_alltypes-84.jpg\n",
      "car-bus_alltypes-164.jpg | car-bus_alltypes-34.jpg\n",
      "car-bus_alltypes-169.jpg | car-bus_alltypes-53.jpg\n",
      "car-bus_alltypes-170.jpg | car-bus_alltypes-36.jpg\n",
      "car-bus_alltypes-174.jpg | car-bus_alltypes-41.jpg\n",
      "car-bus_alltypes-178.jpg | car-bus_alltypes-5.jpg\n",
      "car-bus_alltypes-180.jpg | car-bus_alltypes-80.jpg\n",
      "car-bus_alltypes-182.jpg | car-bus_alltypes-42.jpg\n",
      "car-bus_alltypes-185.jpg | car-bus_alltypes-67.jpg\n",
      "car-bus_alltypes-186.jpg | car-bus_alltypes-197.jpg\n",
      "car-bus_alltypes-189.jpg | car-bus_alltypes-3.jpg\n",
      "car-bus_alltypes-19.jpg | car-bus_alltypes-93.jpg\n",
      "car-bus_alltypes-192.jpg | car-bus_alltypes-74.jpg\n",
      "car-bus_alltypes-194.jpg | car-bus_alltypes-82.jpg\n",
      "car-bus_alltypes-195.jpg | car-bus_alltypes-202.jpg\n",
      "car-bus_alltypes-198.jpg | car-bus_alltypes-200.jpg\n",
      "car-bus_alltypes-201.jpg | car-bus_alltypes-229.jpg\n",
      "car-bus_alltypes-205.jpg | car-bus_alltypes-97.jpg\n",
      "car-bus_alltypes-207.jpg | car-bus_alltypes-90.jpg\n",
      "car-bus_alltypes-208.jpg | car-bus_alltypes-231.jpg\n",
      "car-bus_alltypes-210.jpg | car-bus_alltypes-23.jpg\n",
      "car-bus_alltypes-213.jpg | car-bus_alltypes-79.jpg\n",
      "car-bus_alltypes-230.jpg | car-bus_alltypes-48.jpg\n",
      "car-bus_alltypes-232.jpg | car-bus_alltypes-46.jpg\n",
      "car-bus_alltypes-28.jpg | car-bus_alltypes-29.jpg\n",
      "car-bus_alltypes-31.jpg | car-bus_alltypes-70.jpg\n",
      "car-bus_alltypes-33.jpg | car-bus_alltypes-92.jpg\n",
      "car-bus_alltypes-6.jpg | car-bus_alltypes-61.jpg\n",
      "car-bus_alltypes-66.jpg | car-bus_alltypes-72.jpg\n",
      "car-sedan-alltypes-10.jpg | car-sedan-alltypes-235.jpg\n",
      "car-sedan-alltypes-101.jpg | car-sedan-alltypes-5.jpg\n",
      "car-sedan-alltypes-11.jpg | car-sedan-alltypes-137.jpg\n",
      "car-sedan-alltypes-117.jpg | car-sedan-alltypes-182.jpg\n",
      "car-sedan-alltypes-127.jpg | car-sedan-alltypes-236.jpg\n",
      "car-sedan-alltypes-13.jpg | car-sedan-alltypes-178.jpg\n",
      "car-sedan-alltypes-131.jpg | car-sedan-alltypes-229.jpg\n",
      "car-sedan-alltypes-135.jpg | car-sedan-alltypes-4.jpg\n",
      "car-sedan-alltypes-138.jpg | car-sedan-alltypes-231.jpg\n",
      "car-sedan-alltypes-139.jpg | car-sedan-alltypes-221.jpg\n",
      "car-sedan-alltypes-14.jpg | car-sedan-alltypes-21.jpg\n",
      "car-sedan-alltypes-149.jpg | car-sedan-alltypes-33.jpg\n",
      "car-sedan-alltypes-155.jpg | car-sedan-alltypes-29.jpg\n",
      "car-sedan-alltypes-17.jpg | car-sedan-alltypes-19.jpg\n",
      "car-sedan-alltypes-174.jpg | car-sedan-alltypes-222.jpg\n",
      "car-sedan-alltypes-176.jpg | car-sedan-alltypes-238.jpg\n",
      "car-sedan-alltypes-179.jpg | car-sedan-alltypes-228.jpg\n",
      "car-sedan-alltypes-18.jpg | car-sedan-alltypes-25.jpg\n",
      "car-sedan-alltypes-180.jpg | car-sedan-alltypes-43.jpg\n",
      "car-sedan-alltypes-181.jpg | car-sedan-alltypes-44.jpg\n",
      "car-sedan-alltypes-187.jpg | car-sedan-alltypes-237.jpg\n",
      "car-sedan-alltypes-191.jpg | car-sedan-alltypes-220.jpg\n",
      "car-sedan-alltypes-198.jpg | car-sedan-alltypes-42.jpg\n",
      "car-sedan-alltypes-200.jpg | car-sedan-alltypes-38.jpg\n",
      "car-sedan-alltypes-209.jpg | car-sedan-alltypes-28.jpg\n",
      "car-sedan-alltypes-22.jpg | car-sedan-alltypes-225.jpg\n",
      "car-sedan-alltypes-223.jpg | car-sedan-alltypes-50.jpg\n",
      "car-sedan-alltypes-232.jpg | car-sedan-alltypes-27.jpg\n",
      "car-sedan-alltypes-234.jpg | car-sedan-alltypes-36.jpg\n",
      "car-sedan-alltypes-26.jpg | car-sedan-alltypes-46.jpg\n",
      "car-sedan-alltypes-30.jpg | car-sedan-alltypes-37.jpg\n",
      "car-sedan-alltypes-41.jpg | car-sedan-alltypes-52.jpg\n",
      "car-sedan-alltypes-55.jpg | car-sedan-alltypes-95.jpg\n",
      "car-suv-alltypes-102.jpg | car-suv-alltypes-12.jpg\n",
      "car-suv-alltypes-103.jpg | car-suv-alltypes-125.jpg\n",
      "car-suv-alltypes-105.jpg | car-suv-alltypes-18.jpg\n",
      "car-suv-alltypes-107.jpg | car-suv-alltypes-122.jpg\n",
      "car-suv-alltypes-119.jpg | car-suv-alltypes-230.jpg\n",
      "car-suv-alltypes-120.jpg | car-suv-alltypes-29.jpg\n",
      "car-suv-alltypes-121.jpg | car-suv-alltypes-20.jpg\n",
      "car-suv-alltypes-123.jpg | car-suv-alltypes-37.jpg\n",
      "car-suv-alltypes-124.jpg | car-suv-alltypes-293.jpg\n",
      "car-suv-alltypes-127.jpg | car-suv-alltypes-64.jpg\n",
      "car-suv-alltypes-13.jpg | car-suv-alltypes-182.jpg\n",
      "car-suv-alltypes-132.jpg | car-suv-alltypes-28.jpg\n",
      "car-suv-alltypes-141.jpg | car-suv-alltypes-62.jpg\n",
      "car-suv-alltypes-15.jpg | car-suv-alltypes-66.jpg\n",
      "car-suv-alltypes-16.jpg | car-suv-alltypes-185.jpg\n",
      "car-suv-alltypes-177.jpg | car-suv-alltypes-189.jpg\n",
      "car-suv-alltypes-178.jpg | car-suv-alltypes-9.jpg\n",
      "car-suv-alltypes-183.jpg | car-suv-alltypes-212.jpg\n",
      "car-suv-alltypes-184.jpg | car-suv-alltypes-235.jpg\n",
      "car-suv-alltypes-187.jpg | car-suv-alltypes-274.jpg\n",
      "car-suv-alltypes-190.jpg | car-suv-alltypes-250.jpg\n",
      "car-suv-alltypes-191.jpg | car-suv-alltypes-260.jpg\n",
      "car-suv-alltypes-193.jpg | car-suv-alltypes-210.jpg\n",
      "car-suv-alltypes-198.jpg | car-suv-alltypes-289.jpg\n",
      "car-suv-alltypes-202.jpg | car-suv-alltypes-33.jpg\n",
      "car-suv-alltypes-206.jpg | car-suv-alltypes-292.jpg\n",
      "car-suv-alltypes-208.jpg | car-suv-alltypes-39.jpg\n",
      "car-suv-alltypes-209.jpg | car-suv-alltypes-238.jpg\n",
      "car-suv-alltypes-21.jpg | car-suv-alltypes-81.jpg\n",
      "car-suv-alltypes-22.jpg | car-suv-alltypes-91.jpg\n",
      "car-suv-alltypes-220.jpg | car-suv-alltypes-51.jpg\n",
      "car-suv-alltypes-237.jpg | car-suv-alltypes-68.jpg\n",
      "car-suv-alltypes-24.jpg | car-suv-alltypes-41.jpg\n",
      "car-suv-alltypes-241.jpg | car-suv-alltypes-72.jpg\n",
      "car-suv-alltypes-244.jpg | car-suv-alltypes-75.jpg\n",
      "car-suv-alltypes-251.jpg | car-suv-alltypes-82.jpg\n",
      "car-suv-alltypes-257.jpg | car-suv-alltypes-88.jpg\n",
      "car-suv-alltypes-265.jpg | car-suv-alltypes-96.jpg\n",
      "car-suv-alltypes-266.jpg | car-suv-alltypes-97.jpg\n",
      "car-suv-alltypes-272.jpg | car-suv-alltypes-294.jpg\n",
      "car-suv-alltypes-276.jpg | car-suv-alltypes-291.jpg\n",
      "car-suv-alltypes-40.jpg | car-suv-alltypes-69.jpg\n",
      "motorcycle-bicycle-kids-107.jp | motorcycle-bicycle-kids-29.jpg\n",
      "motorcycle-bicycle-moutain-1.j | motorcycle-bicycle-moutain-32.\n",
      "motorcycle-motorbike-sport-19. | motorcycle-motorbike-sport-51.\n",
      "motorcycle-motorbike-sport-7.j | motorcycle-motorbike-sport-85.\n",
      "1205\n"
     ]
    }
   ],
   "source": [
    "count = 0\n",
    "for (h, hashedPaths) in hashes.items():\n",
    "  if (len(hashedPaths)>1):\n",
    "    count += 1\n",
    "    print(f'{hashedPaths[0].split(os.sep)[-1][0:last_index]} | {hashedPaths[1].split(os.sep)[-1][0:last_index]}')\n",
    "print(len(hashes.items()))"
   ]
  }
 ],
 "metadata": {
  "kernelspec": {
   "display_name": "Python 3",
   "language": "python",
   "name": "python3"
  },
  "language_info": {
   "codemirror_mode": {
    "name": "ipython",
    "version": 3
   },
   "file_extension": ".py",
   "mimetype": "text/x-python",
   "name": "python",
   "nbconvert_exporter": "python",
   "pygments_lexer": "ipython3",
   "version": "3.12.1"
  }
 },
 "nbformat": 4,
 "nbformat_minor": 2
}
